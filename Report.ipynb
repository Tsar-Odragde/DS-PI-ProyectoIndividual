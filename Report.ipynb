{
 "cells": [
  {
   "cell_type": "code",
   "execution_count": 1,
   "metadata": {},
   "outputs": [],
   "source": [
    "import pandas as pd\n",
    "import numpy as np\n",
    "import matplotlib.pyplot as plt\n",
    "import seaborn as sns"
   ]
  },
  {
   "cell_type": "code",
   "execution_count": 5,
   "metadata": {},
   "outputs": [],
   "source": [
    "df_cliente = pd.read_csv('./Datasets/Clientes.csv', sep=';', index_col=0)\n",
    "df_compra = pd.read_csv('./Datasets/Compra.csv', sep=',', index_col=0)\n",
    "df_gasto = pd.read_csv('./Datasets/Gasto.csv', sep=',', index_col=0)\n",
    "df_localidades = pd.read_csv('./Datasets/Localidades.csv', sep=',')\n",
    "df_proveedor = pd.read_csv('./Datasets/Proveedores.csv', sep=',', encoding='latin-1', index_col=0)\n",
    "df_sucursal = pd.read_csv('./Datasets/Sucursales.csv', sep=';', index_col=0)\n",
    "df_venta = pd.read_csv('./Datasets/Venta.csv', sep=',', index_col=0)"
   ]
  }
 ],
 "metadata": {
  "kernelspec": {
   "display_name": "Python 3.10.0 64-bit",
   "language": "python",
   "name": "python3"
  },
  "language_info": {
   "codemirror_mode": {
    "name": "ipython",
    "version": 3
   },
   "file_extension": ".py",
   "mimetype": "text/x-python",
   "name": "python",
   "nbconvert_exporter": "python",
   "pygments_lexer": "ipython3",
   "version": "3.10.0"
  },
  "orig_nbformat": 4,
  "vscode": {
   "interpreter": {
    "hash": "76d7c06053c3456e5600312cec90888656fc0ed30c03d8425b9dac6e4fc8e014"
   }
  }
 },
 "nbformat": 4,
 "nbformat_minor": 2
}
